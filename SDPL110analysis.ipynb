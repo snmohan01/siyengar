{
 "cells": [
  {
   "cell_type": "code",
   "execution_count": 237,
   "metadata": {},
   "outputs": [],
   "source": [
    "import matplotlib.pyplot as plt \n",
    "import metapack as mp\n",
    "import pandas as pd\n",
    "import numpy as np\n",
    "import folium as fm"
   ]
  },
  {
   "cell_type": "code",
   "execution_count": 253,
   "metadata": {},
   "outputs": [],
   "source": [
    "### will be adding summary of all datasets and intro\n",
    "#Beachwatch bacteria counts: https://data.sandiegodata.org/dataset/ceden-waterboards-ca-gov-beachwatch-sandiego\n",
    "#SD River flow rates: https://data.sandiegodata.org/dataset/waterservices-usgs-gov-stream_discharge-fashion_valley_sd\n",
    "#San Diego rainfall: https://data.sandiegodata.org/dataset/noaa-gov-localclimate-200808_201807-san\n",
    "#Historic tide data: https://data.sandiegodata.org/dataset/tidesandcurrents-noaa-gov-water_levels-la_jolla"
   ]
  },
  {
   "cell_type": "code",
   "execution_count": 238,
   "metadata": {},
   "outputs": [
    {
     "data": {
      "text/html": [
       "<div>\n",
       "<style scoped>\n",
       "    .dataframe tbody tr th:only-of-type {\n",
       "        vertical-align: middle;\n",
       "    }\n",
       "\n",
       "    .dataframe tbody tr th {\n",
       "        vertical-align: top;\n",
       "    }\n",
       "\n",
       "    .dataframe thead th {\n",
       "        text-align: right;\n",
       "    }\n",
       "</style>\n",
       "<table border=\"1\" class=\"dataframe\">\n",
       "  <thead>\n",
       "    <tr style=\"text-align: right;\">\n",
       "      <th></th>\n",
       "      <th>0</th>\n",
       "      <th>1</th>\n",
       "      <th>2</th>\n",
       "      <th>3</th>\n",
       "      <th>4</th>\n",
       "    </tr>\n",
       "  </thead>\n",
       "  <tbody>\n",
       "    <tr>\n",
       "      <th>agency_cd</th>\n",
       "      <td>USGS</td>\n",
       "      <td>USGS</td>\n",
       "      <td>USGS</td>\n",
       "      <td>USGS</td>\n",
       "      <td>USGS</td>\n",
       "    </tr>\n",
       "    <tr>\n",
       "      <th>site_no</th>\n",
       "      <td>11023000</td>\n",
       "      <td>11023000</td>\n",
       "      <td>11023000</td>\n",
       "      <td>11023000</td>\n",
       "      <td>11023000</td>\n",
       "    </tr>\n",
       "    <tr>\n",
       "      <th>datetime</th>\n",
       "      <td>1988-01-01 00:00:00</td>\n",
       "      <td>1988-01-02 00:00:00</td>\n",
       "      <td>1988-01-03 00:00:00</td>\n",
       "      <td>1988-01-04 00:00:00</td>\n",
       "      <td>1988-01-05 00:00:00</td>\n",
       "    </tr>\n",
       "    <tr>\n",
       "      <th>discharge_rate</th>\n",
       "      <td>22</td>\n",
       "      <td>20</td>\n",
       "      <td>18</td>\n",
       "      <td>18</td>\n",
       "      <td>21</td>\n",
       "    </tr>\n",
       "    <tr>\n",
       "      <th>qualification_code</th>\n",
       "      <td>A</td>\n",
       "      <td>A</td>\n",
       "      <td>A</td>\n",
       "      <td>A</td>\n",
       "      <td>A</td>\n",
       "    </tr>\n",
       "  </tbody>\n",
       "</table>\n",
       "</div>"
      ],
      "text/plain": [
       "                                      0                    1  \\\n",
       "agency_cd                          USGS                 USGS   \n",
       "site_no                        11023000             11023000   \n",
       "datetime            1988-01-01 00:00:00  1988-01-02 00:00:00   \n",
       "discharge_rate                       22                   20   \n",
       "qualification_code                    A                    A   \n",
       "\n",
       "                                      2                    3  \\\n",
       "agency_cd                          USGS                 USGS   \n",
       "site_no                        11023000             11023000   \n",
       "datetime            1988-01-03 00:00:00  1988-01-04 00:00:00   \n",
       "discharge_rate                       18                   18   \n",
       "qualification_code                    A                    A   \n",
       "\n",
       "                                      4  \n",
       "agency_cd                          USGS  \n",
       "site_no                        11023000  \n",
       "datetime            1988-01-05 00:00:00  \n",
       "discharge_rate                       21  \n",
       "qualification_code                    A  "
      ]
     },
     "execution_count": 238,
     "metadata": {},
     "output_type": "execute_result"
    }
   ],
   "source": [
    "pkg = mp.open_package('http://library.metatab.org/waterservices.usgs.gov-stream_discharge-fashion_valley_sd-1.csv')\n",
    "df = pkg.resource(\"fashion_valley\").read_csv(parse_dates=True)\n",
    "df.head().T"
   ]
  },
  {
   "cell_type": "code",
   "execution_count": 239,
   "metadata": {},
   "outputs": [],
   "source": [
    "df = df[['datetime', 'discharge_rate']].copy().set_index('datetime')"
   ]
  },
  {
   "cell_type": "code",
   "execution_count": 240,
   "metadata": {},
   "outputs": [],
   "source": [
    "#df.head()"
   ]
  },
  {
   "cell_type": "code",
   "execution_count": 241,
   "metadata": {},
   "outputs": [
    {
     "data": {
      "text/plain": [
       "<matplotlib.axes._subplots.AxesSubplot at 0x15555e0b8>"
      ]
     },
     "execution_count": 241,
     "metadata": {},
     "output_type": "execute_result"
    },
    {
     "data": {
      "image/png": "[encoded data removed]",
      "text/plain": [
       "<Figure size 720x216 with 1 Axes>"
      ]
     },
     "metadata": {},
     "output_type": "display_data"
    }
   ],
   "source": [
    "fig, ax = plt.subplots(1,figsize=(10,3))  #define the layout\n",
    "df.plot(ax=ax)"
   ]
  },
  {
   "cell_type": "code",
   "execution_count": 242,
   "metadata": {},
   "outputs": [
    {
     "data": {
      "text/html": [
       "<div>\n",
       "<style scoped>\n",
       "    .dataframe tbody tr th:only-of-type {\n",
       "        vertical-align: middle;\n",
       "    }\n",
       "\n",
       "    .dataframe tbody tr th {\n",
       "        vertical-align: top;\n",
       "    }\n",
       "\n",
       "    .dataframe thead th {\n",
       "        text-align: right;\n",
       "    }\n",
       "</style>\n",
       "<table border=\"1\" class=\"dataframe\">\n",
       "  <thead>\n",
       "    <tr style=\"text-align: right;\">\n",
       "      <th></th>\n",
       "      <th>water_level</th>\n",
       "    </tr>\n",
       "    <tr>\n",
       "      <th>date_time</th>\n",
       "      <th></th>\n",
       "    </tr>\n",
       "  </thead>\n",
       "  <tbody>\n",
       "    <tr>\n",
       "      <th>2000-01-01 02:00:00</th>\n",
       "      <td>3.081</td>\n",
       "    </tr>\n",
       "    <tr>\n",
       "      <th>2000-01-01 07:06:00</th>\n",
       "      <td>1.546</td>\n",
       "    </tr>\n",
       "    <tr>\n",
       "      <th>2000-01-01 13:42:00</th>\n",
       "      <td>5.043</td>\n",
       "    </tr>\n",
       "    <tr>\n",
       "      <th>2000-01-01 21:00:00</th>\n",
       "      <td>0.348</td>\n",
       "    </tr>\n",
       "    <tr>\n",
       "      <th>2000-01-02 02:48:00</th>\n",
       "      <td>3.094</td>\n",
       "    </tr>\n",
       "  </tbody>\n",
       "</table>\n",
       "</div>"
      ],
      "text/plain": [
       "                     water_level\n",
       "date_time                       \n",
       "2000-01-01 02:00:00        3.081\n",
       "2000-01-01 07:06:00        1.546\n",
       "2000-01-01 13:42:00        5.043\n",
       "2000-01-01 21:00:00        0.348\n",
       "2000-01-02 02:48:00        3.094"
      ]
     },
     "execution_count": 242,
     "metadata": {},
     "output_type": "execute_result"
    }
   ],
   "source": [
    "###########################################################################################################\n",
    "#Water_level data to be correlated with bacteria content at the PL dogbeach station from beachwatch dataset\n",
    "###########################################################################################################\n",
    "pkgla = mp.open_package('http://library.metatab.org/tidesandcurrents.noaa.gov-water_levels-la_jolla-1.zip')\n",
    "dfla = pkgla.resource('water_levels').read_csv(parse_dates=True) \n",
    "dfla = dfla[['date_time', 'water_level']].copy().set_index('date_time')\n",
    "dfla.head()"
   ]
  },
  {
   "cell_type": "code",
   "execution_count": 243,
   "metadata": {},
   "outputs": [],
   "source": [
    "###########################################################################################################\n",
    "#beachwatch dataset to quantify analyte concentration at PL-110 station\n",
    "#Water_level data to be correlated with bacteria content at the PL dogbeach station from beachwatch dataset\n",
    "###########################################################################################################\n",
    "bw_pkg = mp.open_package('http://library.metatab.org/ceden.waterboards.ca.gov-beachwatch-sandiego-2.zip')\n",
    "bw_df = bw_pkg.resource('beachwatch-sd').read_csv(parse_dates=True)\n",
    "#bw_df.T"
   ]
  },
  {
   "cell_type": "code",
   "execution_count": 244,
   "metadata": {},
   "outputs": [
    {
     "data": {
      "text/plain": [
       "Coliform,     132819\n",
       "Enterococc     65010\n",
       "E. coli         4428\n",
       "Name: analytegrp, dtype: int64"
      ]
     },
     "execution_count": 244,
     "metadata": {},
     "output_type": "execute_result"
    }
   ],
   "source": [
    "#Create a new column for analyte group\n",
    "bw_df['analytegrp'] = bw_df.analyte.str[:10]\n",
    "bw_df['analytegrp'].value_counts()"
   ]
  },
  {
   "cell_type": "code",
   "execution_count": 245,
   "metadata": {},
   "outputs": [
    {
     "data": {
      "text/plain": [
       "PL-110    1894\n",
       "Name: stationgroup, dtype: int64"
      ]
     },
     "execution_count": 245,
     "metadata": {},
     "output_type": "execute_result"
    }
   ],
   "source": [
    "#Create a new column for station group and extract only PL-110\n",
    "bw_df['stationgroup'] = bw_df.stationcode.str[:10]\n",
    "bw_df = bw_df[bw_df['stationcode'].str.match('PL-110')==True]\n",
    "bw_df['stationgroup'].value_counts()"
   ]
  },
  {
   "cell_type": "code",
   "execution_count": 246,
   "metadata": {},
   "outputs": [
    {
     "data": {
      "text/html": [
       "<div>\n",
       "<style scoped>\n",
       "    .dataframe tbody tr th:only-of-type {\n",
       "        vertical-align: middle;\n",
       "    }\n",
       "\n",
       "    .dataframe tbody tr th {\n",
       "        vertical-align: top;\n",
       "    }\n",
       "\n",
       "    .dataframe thead th {\n",
       "        text-align: right;\n",
       "    }\n",
       "</style>\n",
       "<table border=\"1\" class=\"dataframe\">\n",
       "  <thead>\n",
       "    <tr style=\"text-align: right;\">\n",
       "      <th></th>\n",
       "      <th>id</th>\n",
       "      <th>statefp</th>\n",
       "      <th>countyfp</th>\n",
       "      <th>countyns</th>\n",
       "      <th>affgeoid</th>\n",
       "      <th>geoid</th>\n",
       "      <th>name</th>\n",
       "      <th>lsad</th>\n",
       "      <th>aland</th>\n",
       "      <th>awater</th>\n",
       "      <th>geometry</th>\n",
       "    </tr>\n",
       "  </thead>\n",
       "  <tbody>\n",
       "    <tr>\n",
       "      <th>1175</th>\n",
       "      <td>1175</td>\n",
       "      <td>6</td>\n",
       "      <td>73</td>\n",
       "      <td>277301</td>\n",
       "      <td>0500000US06073</td>\n",
       "      <td>6073</td>\n",
       "      <td>San Diego</td>\n",
       "      <td>6</td>\n",
       "      <td>10898787530</td>\n",
       "      <td>822557348</td>\n",
       "      <td>POLYGON ((-117.596188685737 33.3869649943199, ...</td>\n",
       "    </tr>\n",
       "  </tbody>\n",
       "</table>\n",
       "</div>"
      ],
      "text/plain": [
       "        id  statefp  countyfp  countyns        affgeoid  geoid       name  \\\n",
       "1175  1175        6        73    277301  0500000US06073   6073  San Diego   \n",
       "\n",
       "      lsad        aland     awater  \\\n",
       "1175     6  10898787530  822557348   \n",
       "\n",
       "                                               geometry  \n",
       "1175  POLYGON ((-117.596188685737 33.3869649943199, ...  "
      ]
     },
     "execution_count": 246,
     "metadata": {},
     "output_type": "execute_result"
    }
   ],
   "source": [
    "################################################################\n",
    "## Load a Metapack data package of the US Counties, then extract San Diego county by it's FIPS code, state=6\n",
    "## county=73. FIPS code was from beach_watch dataset. \n",
    "################################################################\n",
    "counties_pkg = mp.open_package('http://library.metatab.org/census.gov-counties-2017-2.csv')\n",
    "\n",
    "# Use the Metapack feature for turning the Pandas dataframe into a GeoPandas dataframe\n",
    "counties = counties_pkg.resource('counties').geoframe()\n",
    "counties\n",
    "sd_county = counties[(counties.statefp==6) & (counties.countyfp==73) ] \n",
    "sd_county"
   ]
  },
  {
   "cell_type": "code",
   "execution_count": 247,
   "metadata": {},
   "outputs": [],
   "source": [
    "#############################################################################\n",
    "#Illustrates the datasets used, and the logic for correlation plot\n",
    "#1. df = dataframe for \"fashion_valley\"\n",
    "#2. dfla = dataframe for \"La Jolla water_level\"\n",
    "#3. bw_df = beachwatch_sd\n",
    "#4. sd_county = to get FIPS value for SD county\n",
    "### Logic \n",
    "#1# get county and state number and quantify \n",
    "#2# index or create a new column for analytegroup and datetime \n",
    "#3# for state, county--\n",
    "######## create a dataframe from beach-data dataset, looks like PL data correlates to fashion_valley dataset\n",
    "######## for stationcode == PL-110 {\n",
    "############# for each analyte type, create matrix datetime, dischargerate or water level\n",
    "############# plot datetime and discharge rate\n",
    "## Will continue on any improvements to be made"
   ]
  },
  {
   "cell_type": "code",
   "execution_count": 248,
   "metadata": {},
   "outputs": [],
   "source": [
    "bw_stations = bw_df[['stationname','stationcode','stationgroup','targetlongitude','targetlatitude']].drop_duplicates() \n",
    "bw_stations = bw_df['stationcode'].apply(str)\n",
    "bw_stations = bw_df[bw_df['stationcode'].str.match('PL-110')==True]\n",
    "bw_stations = bw_stations[['program','project','stationname','stationcode','stationgroup','sampledate','analyte','result','unit']].drop_duplicates()\n",
    "#bw_stations"
   ]
  },
  {
   "cell_type": "code",
   "execution_count": 249,
   "metadata": {},
   "outputs": [
    {
     "data": {
      "text/plain": [
       "<matplotlib.axes._subplots.AxesSubplot at 0x1329d4c88>"
      ]
     },
     "execution_count": 249,
     "metadata": {},
     "output_type": "execute_result"
    },
    {
     "data": {
      "image/png": "[encoded data removed]",
      "text/plain": [
       "<Figure size 1080x432 with 1 Axes>"
      ]
     },
     "metadata": {},
     "output_type": "display_data"
    }
   ],
   "source": [
    "#Correlate PL-110 station bacteria data from beachwatch dataset based on sampledate\n",
    "#############################################################################\n",
    "analyte_ = bw_stations[['sampledate', 'result']].copy().set_index('sampledate')\n",
    "fig, ax = plt.subplots(1,figsize=(15,6))  #define the layout\n",
    "analyte_.plot(ax=ax)"
   ]
  },
  {
   "cell_type": "code",
   "execution_count": 250,
   "metadata": {},
   "outputs": [
    {
     "data": {
      "text/plain": [
       "<matplotlib.axes._subplots.AxesSubplot at 0x132a684e0>"
      ]
     },
     "execution_count": 250,
     "metadata": {},
     "output_type": "execute_result"
    },
    {
     "data": {
      "image/png": "[encoded data removed]",
      "text/plain": [
       "<Figure size 1080x432 with 1 Axes>"
      ]
     },
     "metadata": {},
     "output_type": "display_data"
    }
   ],
   "source": [
    "#correlate PL station data with fashion_valley discharge based on sample date\n",
    "#############################################################################\n",
    "#Improvements: To match beachdata, timestamp needs to start with 2005\n",
    "#############################################################################\n",
    "fig, ax = plt.subplots(1,figsize=(15,6))  #define the layout\n",
    "#analyte_.plot(ax=ax) \n",
    "df.plot(ax=ax)"
   ]
  },
  {
   "cell_type": "code",
   "execution_count": 251,
   "metadata": {},
   "outputs": [
    {
     "data": {
      "text/plain": [
       "<matplotlib.axes._subplots.AxesSubplot at 0x132b98978>"
      ]
     },
     "execution_count": 251,
     "metadata": {},
     "output_type": "execute_result"
    },
    {
     "data": {
      "image/png": "[encoded data removed]",
      "text/plain": [
       "<Figure size 1080x432 with 1 Axes>"
      ]
     },
     "metadata": {},
     "output_type": "display_data"
    }
   ],
   "source": [
    "# Correlating la jolla water_level with PL station. Not sure if this is relevant comparison with the dogbeach\n",
    "########### for review to improve ###########################################################################\n",
    "fig, ax = plt.subplots(1,figsize=(15,6))  #define the layout\n",
    "#analyte_.plot(ax=ax) \n",
    "dfla.plot(ax=ax)"
   ]
  },
  {
   "cell_type": "code",
   "execution_count": 252,
   "metadata": {},
   "outputs": [
    {
     "ename": "AttributeError",
     "evalue": "'list' object has no attribute 'set_index'",
     "output_type": "error",
     "traceback": [
      "\u001b[0;31m---------------------------------------------------------------------------\u001b[0m",
      "\u001b[0;31mAttributeError\u001b[0m                            Traceback (most recent call last)",
      "\u001b[0;32m<ipython-input-252-8cfb9f824f75>\u001b[0m in \u001b[0;36m<module>\u001b[0;34m()\u001b[0m\n\u001b[1;32m     12\u001b[0m \u001b[0;32mfor\u001b[0m \u001b[0max\u001b[0m\u001b[0;34m,\u001b[0m \u001b[0mgroup\u001b[0m \u001b[0;32min\u001b[0m \u001b[0mzip\u001b[0m\u001b[0;34m(\u001b[0m\u001b[0maxes\u001b[0m\u001b[0;34m,\u001b[0m \u001b[0mgroups\u001b[0m\u001b[0;34m)\u001b[0m\u001b[0;34m:\u001b[0m\u001b[0;34m\u001b[0m\u001b[0m\n\u001b[1;32m     13\u001b[0m \u001b[0;34m\u001b[0m\u001b[0m\n\u001b[0;32m---> 14\u001b[0;31m     \u001b[0m_\u001b[0m \u001b[0;34m=\u001b[0m \u001b[0;34m[\u001b[0m\u001b[0;34m(\u001b[0m\u001b[0manalyte_\u001b[0m\u001b[0;34m.\u001b[0m\u001b[0manalyte\u001b[0m\u001b[0;34m==\u001b[0m\u001b[0mgroup\u001b[0m\u001b[0;34m)\u001b[0m\u001b[0;34m]\u001b[0m        \u001b[0;34m.\u001b[0m\u001b[0mset_index\u001b[0m\u001b[0;34m(\u001b[0m\u001b[0;34m'sampledate'\u001b[0m\u001b[0;34m)\u001b[0m\u001b[0;34m.\u001b[0m\u001b[0mgroupby\u001b[0m\u001b[0;34m(\u001b[0m\u001b[0;34m[\u001b[0m\u001b[0;34m'analyte'\u001b[0m\u001b[0;34m,\u001b[0m\u001b[0mpd\u001b[0m\u001b[0;34m.\u001b[0m\u001b[0mGrouper\u001b[0m\u001b[0;34m(\u001b[0m\u001b[0mfreq\u001b[0m\u001b[0;34m=\u001b[0m\u001b[0;34m'm'\u001b[0m\u001b[0;34m)\u001b[0m\u001b[0;34m]\u001b[0m\u001b[0;34m)\u001b[0m\u001b[0;34m.\u001b[0m\u001b[0mmean\u001b[0m\u001b[0;34m(\u001b[0m\u001b[0;34m)\u001b[0m\u001b[0;34m\u001b[0m\u001b[0m\n\u001b[0m\u001b[1;32m     15\u001b[0m     \u001b[0m_\u001b[0m\u001b[0;34m[\u001b[0m\u001b[0;34m'log_result'\u001b[0m\u001b[0;34m]\u001b[0m \u001b[0;34m=\u001b[0m \u001b[0m_\u001b[0m\u001b[0;34m.\u001b[0m\u001b[0mresult\u001b[0m\u001b[0;34m.\u001b[0m\u001b[0mapply\u001b[0m\u001b[0;34m(\u001b[0m\u001b[0mnp\u001b[0m\u001b[0;34m.\u001b[0m\u001b[0mlog10\u001b[0m\u001b[0;34m)\u001b[0m\u001b[0;34m\u001b[0m\u001b[0m\n\u001b[1;32m     16\u001b[0m     \u001b[0m_\u001b[0m\u001b[0;34m.\u001b[0m\u001b[0mreset_index\u001b[0m\u001b[0;34m(\u001b[0m\u001b[0;34m)\u001b[0m\u001b[0;34m.\u001b[0m\u001b[0mset_index\u001b[0m\u001b[0;34m(\u001b[0m\u001b[0;34m'sampledate'\u001b[0m\u001b[0;34m)\u001b[0m\u001b[0;34m.\u001b[0m\u001b[0mgroupby\u001b[0m\u001b[0;34m(\u001b[0m\u001b[0;34m'analyte'\u001b[0m\u001b[0;34m)\u001b[0m\u001b[0;34m.\u001b[0m\u001b[0mplot\u001b[0m\u001b[0;34m(\u001b[0m\u001b[0max\u001b[0m\u001b[0;34m=\u001b[0m\u001b[0max\u001b[0m\u001b[0;34m,\u001b[0m\u001b[0my\u001b[0m\u001b[0;34m=\u001b[0m\u001b[0;34m'result'\u001b[0m\u001b[0;34m,\u001b[0m \u001b[0mlegend\u001b[0m \u001b[0;34m=\u001b[0m \u001b[0;32mFalse\u001b[0m\u001b[0;34m)\u001b[0m\u001b[0;34m\u001b[0m\u001b[0m\n",
      "\u001b[0;31mAttributeError\u001b[0m: 'list' object has no attribute 'set_index'"
     ]
    }
   ],
   "source": [
    "####################################################################################\n",
    "# Goal: to have a combined correlation plot for all analytes in PL-110 (all of the above)  \n",
    "# in one plot to get the comparison based on date/timestamp\n",
    "# STATUS: Trying to fix/debug the indexing; perhaps will fix it before today's meeting \n",
    "####################################################################################\n",
    "analyte_ = bw_df[bw_df['stationcode'].str.match('PL-110')==True]\n",
    "analyte_ = analyte_[['program','project','stationname','stationcode','stationgroup','sampledate','analyte','result','unit']].drop_duplicates()\n",
    "analyte_.head()\n",
    "groups = list(analyte_.analyte.unique())\n",
    "#fig, axes = plt.subplots(len(groups), 1,figsize=(18,5*len(groups)))\n",
    "\n",
    "for ax, group in zip(axes, groups):\n",
    "    \n",
    "    _ = [(analyte_.analyte==group)]\\\n",
    "        .set_index('sampledate').groupby(['analyte',pd.Grouper(freq='m')]).mean()\n",
    "    _['log_result'] = _.result.apply(np.log10)\n",
    "    _.reset_index().set_index('sampledate').groupby('analyte').plot(ax=ax,y='result', legend = False)\n",
    "    ax.set_yscale(\"log\", nonposy='clip')\n",
    "    ax.set_title(\"Dogbeach PL-010 {}\".format(group))\n",
    "\n",
    "    \n",
    "plt.tight_layout(pad=0.4, w_pad=0.5, h_pad=1.0)"
   ]
  },
  {
   "cell_type": "code",
   "execution_count": null,
   "metadata": {},
   "outputs": [],
   "source": []
  },
  {
   "cell_type": "code",
   "execution_count": null,
   "metadata": {},
   "outputs": [],
   "source": [
    "#####################################################################################\n",
    "# Not sure if this is relevant, just wanted to show combined concentration of analyte \n",
    "# group (all 4 analytes) in PL-110 region. Idea is to show concentration of analytes\n",
    "# STATUS: WORKING PROGRESS, not sure if this is of any importance to the analysis based on geo\n",
    "#####################################################################################\n",
    "from shapely.geometry import Point\n",
    "import geopandas as gpd\n",
    "\n",
    "\n",
    "## Create a new GeoPandas frame, converting the targetlongitude and targetlatitude\n",
    "## colums to a Shapely Point and assigning it to the frame's geometry\n",
    "\n",
    "#gdf = gpd.GeoDataFrame(bw_stations, geometry=[Point(x,y) for x,y in zip(bw_stations.targetlongitude, bw_stations.targetlatitude)])\n",
    "\n",
    "# Here is a quick plot\n",
    "#gdf.plot(column='analytegrp')"
   ]
  },
  {
   "cell_type": "code",
   "execution_count": null,
   "metadata": {},
   "outputs": [],
   "source": [
    "####################################################################\n",
    "# If stationcode is PL-110, then print interactive map, localization of analytes\n",
    "# STATUS: This is a working progress. \n",
    "####################################################################\n",
    "import folium\n",
    "\n",
    "center = [32.755, -117.253] # Approx Dog Beach, obtained by beachdata geo location for SD\n",
    "#bw_stations = bw_df['stationcode'].apply(str)\n",
    "\n",
    "m = folium.Map(location=center, zoom_start=13, control_scale=True)\n",
    "\n",
    "#for idx, row in bw_stations.iterrows():\n",
    "#    if row.stationcode.startswith(\"PL\"):\n",
    "    \n",
    "    #if row.stationcode.str.match(\"PL-110\"):\n",
    "        \n",
    " #       folium.Marker(location=[row.targetlatitude, row.targetlongitude],\n",
    " #                         icon=folium.DivIcon(\n",
    " #                           icon_size=(250,36),\n",
    " #                           icon_anchor=(0,0),\n",
    " #                           html='<div style=\"font-size: 10pt\">{}</div>'.format(row.stationname),\n",
    " #                           )\n",
    " #                    ).add_to(m)\n",
    " #       folium.Marker(location=[row.targetlatitude, row.targetlongitude], popup=row.stationname).add_to(m)\n",
    " #   \n",
    "#m.save('pl_stations.html')\n",
    "#m"
   ]
  },
  {
   "cell_type": "code",
   "execution_count": null,
   "metadata": {},
   "outputs": [],
   "source": [
    "#############\n",
    "# Improvements: To have analysis for new combined dataset?"
   ]
  },
  {
   "cell_type": "code",
   "execution_count": null,
   "metadata": {},
   "outputs": [],
   "source": []
  }
 ],
 "metadata": {
  "kernelspec": {
   "display_name": "Python 3",
   "language": "python",
   "name": "python3"
  },
  "language_info": {
   "codemirror_mode": {
    "name": "ipython",
    "version": 3
   },
   "file_extension": ".py",
   "mimetype": "text/x-python",
   "name": "python",
   "nbconvert_exporter": "python",
   "pygments_lexer": "ipython3",
   "version": "3.6.5"
  }
 },
 "nbformat": 4,
 "nbformat_minor": 2
}
